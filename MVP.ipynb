{
 "cells": [
  {
   "cell_type": "markdown",
   "id": "15e02e24",
   "metadata": {},
   "source": [
    "<h1 style=\"font-family:verdana;\">LONDON BIKE SHARING</h1>\n",
    "\n",
    "<img src=\"cycyling.jpeg\" alt=\"Girl in cycyling\" width=\"500\" height=\"600\">"
   ]
  },
  {
   "cell_type": "markdown",
   "id": "3f8edf67",
   "metadata": {},
   "source": [
    "\n",
    "## Analysis of weather conditions and times of days (vacation):\n",
    "\n",
    "### The goal of this project is to better understand the factors that are most important in increasing bicycle use, and how these factors relate to controlling increased bicycle rentals."
   ]
  },
  {
   "cell_type": "markdown",
   "id": "0e827406",
   "metadata": {},
   "source": [
    "<img src=\"weather_seasons.png\" alt=\"Girl in cycyling\"> </img>"
   ]
  },
  {
   "cell_type": "markdown",
   "id": "f1a158d4",
   "metadata": {},
   "source": [
    "### There is a strong influence of seasons and weather on the number of subscribersAs the summer season had more subscribers, while the winter season was the opposite and the effect of air purity has a very big effect."
   ]
  },
  {
   "cell_type": "markdown",
   "id": "86a20e11",
   "metadata": {},
   "source": [
    "<img src=\"holiday_weekend.png\" alt=\"Girl in cycyling\"> </img>"
   ]
  },
  {
   "cell_type": "markdown",
   "id": "543267a0",
   "metadata": {},
   "source": [
    "### There is a strong effect between the vacation on the number of subscribers as vacation time increases the number of subscribers."
   ]
  },
  {
   "cell_type": "code",
   "execution_count": null,
   "id": "a53f69cb",
   "metadata": {},
   "outputs": [],
   "source": []
  },
  {
   "cell_type": "code",
   "execution_count": null,
   "id": "47d28da3",
   "metadata": {},
   "outputs": [],
   "source": []
  }
 ],
 "metadata": {
  "kernelspec": {
   "display_name": "Python 3",
   "language": "python",
   "name": "python3"
  },
  "language_info": {
   "codemirror_mode": {
    "name": "ipython",
    "version": 3
   },
   "file_extension": ".py",
   "mimetype": "text/x-python",
   "name": "python",
   "nbconvert_exporter": "python",
   "pygments_lexer": "ipython3",
   "version": "3.8.8"
  }
 },
 "nbformat": 4,
 "nbformat_minor": 5
}
