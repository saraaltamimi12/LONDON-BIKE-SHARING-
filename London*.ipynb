{
 "cells": [
  {
   "cell_type": "markdown",
   "id": "b83c270e-30d8-44a6-926b-e50209b08f43",
   "metadata": {},
   "source": [
    "\n",
    "\n",
    "<h1 style=\"font-family:verdana;\">LONDON BIKE SHARING</h1>\n",
    "\n",
    "<img src=\"cycyling.jpeg\" alt=\"Girl in cycyling\" width=\"500\" height=\"600\">"
   ]
  },
  {
   "cell_type": "markdown",
   "id": "19de675a-031a-40f3-8afe-e5de470d8471",
   "metadata": {},
   "source": [
    "Appenddix\n",
    "-click on the link:\n",
    ">1. <a href=#overview> OVERVIEW</a>\n",
    ">2. <a href=#mot> MOTIVATIONS</a>\n",
    ">3. <a href=#obj> THE OBJECTIVE</a>\n",
    ">4. <a href=#desc> DESCRIBE DATA</a>\n",
    ">5. <a href=#tools> TOOLS</a>"
   ]
  },
  {
   "cell_type": "markdown",
   "id": "fd2ae5a9-e43a-4945-9841-521602901035",
   "metadata": {},
   "source": [
    "<a name=#overview style=\"font-size:200%;\"> OVERVIEW:\n",
    "\n",
    "The London Public Bike Scheme is a great way to get around the city, and getting started is very easy: just rent a bike, ride it wherever you want, and return it to any of the docking stations around the city.\n",
    "bike-sharing company\n",
    "The London Cycling Infrastructure Database (CID) is the world's largest and most comprehensive database of cycling infrastructure, containing extensive infrastructure details and weather news in the capital.\n",
    "</a>"
   ]
  },
  {
   "cell_type": "markdown",
   "id": "064be888-b12a-4839-a674-88cc4f6a3bef",
   "metadata": {},
   "source": [
    "<a name=##obj style=\" font-size:200%;\"> THE OBJECTIVE:\n",
    "    \n",
    "o\tFind the size of the data.\n",
    "\n",
    "o\tDescribe data .\n",
    "\n",
    "o\tFind from the data what the weather was like when the polytheists had the highest value.\n",
    "\n",
    "o\tFind out from the data what day was when the polytheists had the least value.\n",
    "\n",
    "o\tFind out from the data what is the right time (polytheists had the highest value) for each Season.\n",
    "\n",
    "o\tWhat is the number of idolaters when the actual temperature is equal to the feeling of heat.\n",
    "\n",
    "o\tFind the visualization of the  number of idolaters in each Season.\n",
    "</a>"
   ]
  },
  {
   "cell_type": "markdown",
   "id": "730fbfea-3a85-4a6c-8195-235dddcd4e7b",
   "metadata": {},
   "source": [
    "<a name=#mot style=\" font-size:200%;\"> MOTIVATIONS:\n",
    "    \n",
    "The purpose is to try to find out the effect of the weather and the seasons on the number of bike shares.</a>"
   ]
  },
  {
   "cell_type": "markdown",
   "id": "058e8b58-18e8-425c-a161-06d2292c9d28",
   "metadata": {},
   "source": [
    "<a name=#desc style=\"font-size:200%;\"> DESCRIBE DATA:\n",
    "\n",
    "I used the data I got from this website https://www.kaggle.com/hmavrodiev/london-bike-sharing-dataset\n",
    "\n",
    "I have 10 column and more than 17,000 rows.\n",
    "\n",
    "timestamp : timestamp field for data collection\n",
    "cnt : number of new bike posts\n",
    "t1 : true temperature in C\n",
    "t2:  temperature in C \"looks like\"\n",
    "hum : humidity\n",
    "windspeed : wind speed km/h\n",
    "Weather_code : weather category\n",
    "Description of the \"weather_code\" class:\n",
    "1 = clear; Mostly clear but some values with fog/fog/fog patches/fog in the vicinity 2 = scattered clouds / few clouds 3 = intermittent clouds 4 = cloudy 7 = rain / light showers / light rain 10 = stormy rain Thunder 26 = Snow 94 = Freezing Fog \n",
    "Holiday :Boolean field - 1 holiday / 0 non-holiday\n",
    "isweekend : Boolean field - 1 if today is a weekend\n",
    "Season : the category of field meteorological seasons: zero-spring; 1- Summer 2- Fall 3- Winter.\n",
    "</a>"
   ]
  },
  {
   "cell_type": "markdown",
   "id": "25eeb3c8-ab0a-4076-a9a9-77b9900cef53",
   "metadata": {},
   "source": [
    "<a name=#tools; style=\"font-size:200%;\"> TOOLS:\n",
    "\n",
    "1.Pandas\n",
    "    \n",
    "2.Numpy\n",
    "    \n",
    "3.Matplotlib\n",
    "    \n",
    "4.Seaborn\n",
    "    \n",
    "5.Sys \n",
    "</a>"
   ]
  },
  {
   "cell_type": "code",
   "execution_count": null,
   "id": "35791dd1-904d-418e-a802-7c42a3e0b978",
   "metadata": {},
   "outputs": [],
   "source": []
  }
 ],
 "metadata": {
  "kernelspec": {
   "display_name": "Python 3",
   "language": "python",
   "name": "python3"
  },
  "language_info": {
   "codemirror_mode": {
    "name": "ipython",
    "version": 3
   },
   "file_extension": ".py",
   "mimetype": "text/x-python",
   "name": "python",
   "nbconvert_exporter": "python",
   "pygments_lexer": "ipython3",
   "version": "3.8.8"
  }
 },
 "nbformat": 4,
 "nbformat_minor": 5
}
